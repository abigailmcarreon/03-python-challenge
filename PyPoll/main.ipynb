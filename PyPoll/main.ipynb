{
 "cells": [
  {
   "cell_type": "code",
   "execution_count": 33,
   "metadata": {},
   "outputs": [],
   "source": [
    "import csv\n",
    "import os"
   ]
  },
  {
   "cell_type": "code",
   "execution_count": 34,
   "metadata": {},
   "outputs": [],
   "source": [
    "election_csv = os.path.join(\"Resources/election_data.csv\")\n",
    "pathout = os.path.join(\"Resources\", \"Election Analysis\")"
   ]
  },
  {
   "cell_type": "code",
   "execution_count": 36,
   "metadata": {
    "scrolled": true
   },
   "outputs": [
    {
     "name": "stdout",
     "output_type": "stream",
     "text": [
      "ELECTION RESULTS\n",
      "-------------------------------------------\n",
      "Total Votes: 3521001\n",
      "-------------------------------------------\n",
      "Khan: 63.0% (2218231)\n",
      "Correy: 20.0% (704200)\n",
      "Li: 14.0% (492940)\n",
      "O'Tooley: 3.0% (105630)\n",
      "-------------------------------------------\n",
      "WINNER: Khan!\n"
     ]
    }
   ],
   "source": [
    "with open(election_csv, newline=\"\") as csvfile:\n",
    "    electionreader=csv.reader(csvfile, delimiter = \",\")\n",
    "\n",
    "    csv_header = next(electionreader)\n",
    "\n",
    "    votes = []\n",
    "    candidates = []\n",
    "\n",
    "    for row in electionreader:\n",
    "        votes.append(row[0])\n",
    "        candidates.append(row[2])\n",
    "       \n",
    "\n",
    "total_votes = (len(votes))\n",
    "\n",
    "khan_total = (int(candidates.count(\"Khan\")))\n",
    "khan = (khan_total/total_votes) * 100\n",
    "khanrounded = round(khan, 3)\n",
    "\n",
    "correy_total = (int(candidates.count(\"Correy\")))\n",
    "correy = (correy_total/total_votes) * 100\n",
    "correyrounded = round(correy, 3)\n",
    "\n",
    "li_total = (int(candidates.count(\"Li\")))\n",
    "li = (li_total/total_votes) * 100\n",
    "lirounded = round(li, 3)\n",
    "\n",
    "otooley_total = (int(candidates.count(\"O'Tooley\")))\n",
    "otooley = (otooley_total/total_votes) * 100\n",
    "otooleyrounded = round(otooley, 3)\n",
    "\n",
    "\n",
    "if khan_total > correy_total > li_total > otooley_total:\n",
    "    winner = \"Khan\"\n",
    "elif correy_total > khan_total > li_total > otooley_total:\n",
    "    winner = \"Correy\"\n",
    "elif li_total > khan_total > correy_total > otooley_total:\n",
    "    winner = \"Li\"\n",
    "elif otooley_total > khan_total > correy_total > li_total:\n",
    "    winner = \"O'Tooley\"\n",
    "\n",
    "\n",
    "print(\"ELECTION RESULTS\")\n",
    "print(\"-------------------------------------------\")\n",
    "print(f\"Total Votes: {total_votes}\")\n",
    "print(\"-------------------------------------------\")\n",
    "print(f\"Khan: {khanrounded}% ({khan_total})\")\n",
    "print(f\"Correy: {correyrounded}% ({correy_total})\")\n",
    "print(f\"Li: {lirounded}% ({li_total})\")\n",
    "print(f\"O'Tooley: {otooleyrounded}% ({otooley_total})\")\n",
    "print(\"-------------------------------------------\")\n",
    "print(f\"WINNER: {winner}!\")"
   ]
  },
  {
   "cell_type": "code",
   "execution_count": null,
   "metadata": {},
   "outputs": [],
   "source": [
    "import sys\n",
    "sys.stdout = open(\"Result.txt\", \"w\")\n",
    "print(\"ELECTION RESULTS\")\n",
    "print(\"-------------------------------------------\")\n",
    "print(f\"Total Votes: {total_votes}\")\n",
    "print(\"-------------------------------------------\")\n",
    "print(f\"Khan: {khanrounded}% ({khan_total})\")\n",
    "print(f\"Correy: {correyrounded}% ({correy_total})\")\n",
    "print(f\"Li: {lirounded}% ({li_total})\")\n",
    "print(f\"O'Tooley: {otooleyrounded}% ({otooley_total})\")\n",
    "print(\"-------------------------------------------\")\n",
    "print(f\"WINNER: {winner}!\")\n",
    "\n",
    "sys.stdout.close()"
   ]
  },
  {
   "cell_type": "code",
   "execution_count": null,
   "metadata": {},
   "outputs": [],
   "source": []
  }
 ],
 "metadata": {
  "kernelspec": {
   "display_name": "Python 3",
   "language": "python",
   "name": "python3"
  },
  "language_info": {
   "codemirror_mode": {
    "name": "ipython",
    "version": 3
   },
   "file_extension": ".py",
   "mimetype": "text/x-python",
   "name": "python",
   "nbconvert_exporter": "python",
   "pygments_lexer": "ipython3",
   "version": "3.8.5"
  }
 },
 "nbformat": 4,
 "nbformat_minor": 4
}
